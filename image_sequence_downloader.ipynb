{
 "cells": [
  {
   "cell_type": "code",
   "execution_count": 28,
   "metadata": {},
   "outputs": [],
   "source": [
    "# Imports\n",
    "\n",
    "import urllib.request\n",
    "import os"
   ]
  },
  {
   "cell_type": "code",
   "execution_count": 38,
   "metadata": {},
   "outputs": [],
   "source": [
    "# Functions\n",
    "\n",
    "def extract_base_link(url):\n",
    "    \n",
    "    base_link = url[:url.rfind('/')] + \"/\"\n",
    "    \n",
    "    return(base_link)\n",
    "\n",
    "def extract_folder_name(url):\n",
    "    \n",
    "    base_link = url[:url.rfind('/')] \n",
    "    \n",
    "    foldername = base_link[base_link.rfind('/')+1:] \n",
    "    \n",
    "    return(foldername)"
   ]
  },
  {
   "cell_type": "code",
   "execution_count": 37,
   "metadata": {},
   "outputs": [
    {
     "name": "stdout",
     "output_type": "stream",
     "text": [
      "Directory already exists\n",
      "Found 49 images\n"
     ]
    }
   ],
   "source": [
    "# Main\n",
    "\n",
    "source_link = \"https://www.games-workshop.com/resources/catalog/product/threeSixty/99120199073_DaemonifugeEphraelSternKyganilSpin2360/02.jpg\"\n",
    "\n",
    "# Header needed so that browser doesn't notice that we're a script\n",
    "headers={'User-Agent': 'Mozilla/5.0 (X11; Linux x86_64) AppleWebKit/537.11 (KHTML, like Gecko) Chrome/23.0.1271.64 Safari/537.11',\n",
    "   'Accept': 'text/html,application/xhtml+xml,application/xml;q=0.9,*/*;q=0.8',\n",
    "   'Accept-Charset': 'ISO-8859-1,utf-8;q=0.7,*;q=0.3',\n",
    "   'Accept-Encoding': 'none',\n",
    "   'Accept-Language': 'en-US,en;q=0.8',\n",
    "   'Connection': 'keep-alive'}\n",
    "\n",
    "try:\n",
    "    \n",
    "    os.mkdir(\"./\" + extract_folder_name(source_link))\n",
    "    \n",
    "except FileExistsError:\n",
    "    \n",
    "    print(\"Directory already exists\")\n",
    "\n",
    "reached_end = False    \n",
    "i = 1\n",
    "\n",
    "while not reached_end:    \n",
    "    \n",
    "    try:\n",
    "\n",
    "        lnk = extract_base_link(source_link) + f\"{i:02d}\" + \".jpg\"\n",
    "\n",
    "        request_ = urllib.request.Request(lnk, None, headers) \n",
    "        response = urllib.request.urlopen(request_)\n",
    "        \n",
    "        f = open(\"./\" + extract_folder_name(lnk) + \"/\" + f\"{i:02d}\" + \".jpg\" ,'wb')\n",
    "        f.write(response.read())\n",
    "        f.close()\n",
    "        \n",
    "        i += 1\n",
    "\n",
    "    except:\n",
    "\n",
    "        reached_end = True\n",
    "        print(\"Found\", i-1, \"images\")\n",
    "    \n"
   ]
  }
 ],
 "metadata": {
  "kernelspec": {
   "display_name": "Python 3.7.6 64-bit ('T201901_ML_For_Bonn': conda)",
   "language": "python",
   "name": "python37664bitt201901mlforbonnconda056d41b225fd47b28900e85864c348af"
  },
  "language_info": {
   "codemirror_mode": {
    "name": "ipython",
    "version": 3
   },
   "file_extension": ".py",
   "mimetype": "text/x-python",
   "name": "python",
   "nbconvert_exporter": "python",
   "pygments_lexer": "ipython3",
   "version": "3.7.6"
  }
 },
 "nbformat": 4,
 "nbformat_minor": 4
}
